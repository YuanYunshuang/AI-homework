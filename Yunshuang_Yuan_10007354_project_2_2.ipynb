{
 "cells": [
  {
   "cell_type": "markdown",
   "metadata": {},
   "source": [
    "# Artificial Intelligence, Project 2.2\n",
    "\n",
    "The project for the machine learning part is also split into two sub projects, this is the second part.\n",
    "\n",
    "**Deadline:** 24.07.2018\n",
    "\n",
    "Submit your solution (only the ipynb file) to AI.SS18@l3s.de using the subject:\n",
    "\n",
    "```\n",
    "AI18Project2.2:  [YourNames]\n",
    "```\n",
    "\n",
    "Please be sure to provide your matriculation numbers in the email.\n",
    "\n",
    "File naming convention:\n",
    "\n",
    "**`[FirstName]_[FamilyName]_[MatriculationNumber]_project_2_2.ipynb`**\n",
    "\n",
    "Where `[FirstName]_[FamilyName]_[MatriculationNumber]` is added **per participant** in the group (max 2) and devided by a `_` if there are two group members."
   ]
  },
  {
   "cell_type": "code",
   "execution_count": 1,
   "metadata": {},
   "outputs": [
    {
     "name": "stderr",
     "output_type": "stream",
     "text": [
      "/Users/ophelia/anaconda3/lib/python3.5/importlib/_bootstrap.py:222: RuntimeWarning: compiletime version 3.6 of module 'tensorflow.python.framework.fast_tensor_util' does not match runtime version 3.5\n",
      "  return f(*args, **kwds)\n"
     ]
    }
   ],
   "source": [
    "import os\n",
    "from pathlib import Path\n",
    "import tensorflow as tf\n",
    "import numpy as np\n",
    "import itertools\n",
    "from sklearn.model_selection import train_test_split\n",
    "import matplotlib.pyplot as plt\n",
    "from sklearn.linear_model import Ridge\n",
    "from sklearn.preprocessing import PolynomialFeatures\n",
    "from sklearn.pipeline import make_pipeline\n",
    "from matplotlib import cm\n",
    "from PIL import Image\n",
    "from skimage import data, io, filters"
   ]
  },
  {
   "cell_type": "markdown",
   "metadata": {},
   "source": [
    "Please download the CIFAR-10 dataset (Python version) from: https://www.cs.toronto.edu/~kriz/cifar.html"
   ]
  },
  {
   "cell_type": "code",
   "execution_count": 2,
   "metadata": {},
   "outputs": [],
   "source": [
    "cifar_path = \"/Users/ophelia/Downloads/cifar-10-batches-py\"  "
   ]
  },
  {
   "cell_type": "code",
   "execution_count": 3,
   "metadata": {},
   "outputs": [],
   "source": [
    "def get_cifar_filenames(path, train=True):\n",
    "    if train:\n",
    "        return list(map(str, Path(path).glob(\"*data_batch_*\")))\n",
    "    else:\n",
    "        return list(map(str, Path(path).glob(\"*test_batch*\")))"
   ]
  },
  {
   "cell_type": "markdown",
   "metadata": {},
   "source": [
    "# Data\n",
    "`generate_data` will yield tuples of (ndarray, int), where the ndarray either has the shape of the image `(128, 128, 3)` or `(128*128*3, 1)` if reshape is set to `True` and int is just the label with a value of 0 or 1.\n",
    "\n",
    "It will also do some rough normalization to get the mean of the values to (approx.) 0 and variance to (approx.) 1. A complete pass through the data would be necessary to do this properly, but for images the implemented method is usually fine to start out with."
   ]
  },
  {
   "cell_type": "code",
   "execution_count": 4,
   "metadata": {},
   "outputs": [],
   "source": [
    "def generate_cifar_data(paths, reshape=True, normalize=True):\n",
    "    import pickle\n",
    "\n",
    "    for file in paths:\n",
    "        #print(file)\n",
    "        with open(file, 'rb') as fo:\n",
    "            dict = pickle.load(fo, encoding='bytes')\n",
    "            for i in range(10000):\n",
    "                image = dict[bytes(\"data\", \"utf-8\")][i]\n",
    "                if normalize:\n",
    "                    image = (image) / 256\n",
    "                    \n",
    "                if not reshape:\n",
    "                    image = image.reshape(3, 32, 32).transpose([1, 2, 0])\n",
    "                    \n",
    "                yield image, dict[bytes(\"labels\", \"utf-8\")][i]"
   ]
  },
  {
   "cell_type": "code",
   "execution_count": 5,
   "metadata": {},
   "outputs": [
    {
     "name": "stdout",
     "output_type": "stream",
     "text": [
      "(array([0.23046875, 0.16796875, 0.1953125 , ..., 0.546875  , 0.328125  ,\n",
      "       0.28125   ]), 6)\n"
     ]
    }
   ],
   "source": [
    "data = generate_cifar_data(get_cifar_filenames(cifar_path, True))\n",
    "print(next(data))"
   ]
  },
  {
   "cell_type": "code",
   "execution_count": 6,
   "metadata": {},
   "outputs": [
    {
     "name": "stdout",
     "output_type": "stream",
     "text": [
      "(array([[[0.6171875 , 0.4375    , 0.19140625],\n",
      "        [0.62109375, 0.43359375, 0.18359375],\n",
      "        [0.64453125, 0.453125  , 0.19921875],\n",
      "        ...,\n",
      "        [0.53515625, 0.37109375, 0.140625  ],\n",
      "        [0.4921875 , 0.35546875, 0.140625  ],\n",
      "        [0.453125  , 0.33203125, 0.12890625]],\n",
      "\n",
      "       [[0.59375   , 0.4375    , 0.19921875],\n",
      "        [0.58984375, 0.4296875 , 0.15625   ],\n",
      "        [0.62109375, 0.4453125 , 0.17578125],\n",
      "        ...,\n",
      "        [0.53125   , 0.37109375, 0.12109375],\n",
      "        [0.48828125, 0.35546875, 0.125     ],\n",
      "        [0.46484375, 0.34375   , 0.1328125 ]],\n",
      "\n",
      "       [[0.58984375, 0.4296875 , 0.18359375],\n",
      "        [0.58984375, 0.42578125, 0.12890625],\n",
      "        [0.6171875 , 0.43359375, 0.140625  ],\n",
      "        ...,\n",
      "        [0.54296875, 0.3828125 , 0.1328125 ],\n",
      "        [0.5078125 , 0.37109375, 0.1328125 ],\n",
      "        [0.46875   , 0.34765625, 0.12890625]],\n",
      "\n",
      "       ...,\n",
      "\n",
      "       [[0.265625  , 0.484375  , 0.69140625],\n",
      "        [0.1640625 , 0.390625  , 0.578125  ],\n",
      "        [0.12109375, 0.34375   , 0.53515625],\n",
      "        ...,\n",
      "        [0.1484375 , 0.37890625, 0.5703125 ],\n",
      "        [0.05078125, 0.25      , 0.421875  ],\n",
      "        [0.15625   , 0.33203125, 0.49609375]],\n",
      "\n",
      "       [[0.23828125, 0.453125  , 0.65625   ],\n",
      "        [0.19140625, 0.3984375 , 0.578125  ],\n",
      "        [0.13671875, 0.33203125, 0.515625  ],\n",
      "        ...,\n",
      "        [0.1015625 , 0.3203125 , 0.5078125 ],\n",
      "        [0.11328125, 0.3203125 , 0.4921875 ],\n",
      "        [0.078125  , 0.25      , 0.41796875]],\n",
      "\n",
      "       [[0.2109375 , 0.41796875, 0.625     ],\n",
      "        [0.21875   , 0.41015625, 0.58203125],\n",
      "        [0.17578125, 0.34765625, 0.515625  ],\n",
      "        ...,\n",
      "        [0.09375   , 0.30078125, 0.484375  ],\n",
      "        [0.1328125 , 0.328125  , 0.50390625],\n",
      "        [0.08203125, 0.26171875, 0.4296875 ]]]), 3)\n"
     ]
    }
   ],
   "source": [
    "data = generate_cifar_data(get_cifar_filenames(cifar_path, False), reshape=False, normalize=True)\n",
    "print(next(data))"
   ]
  },
  {
   "cell_type": "code",
   "execution_count": 7,
   "metadata": {},
   "outputs": [
    {
     "data": {
      "text/plain": [
       "<matplotlib.image.AxesImage at 0x1c2dc17278>"
      ]
     },
     "execution_count": 7,
     "metadata": {},
     "output_type": "execute_result"
    },
    {
     "data": {
      "image/png": "[encoded data removed]",
      "text/plain": [
       "<Figure size 432x288 with 1 Axes>"
      ]
     },
     "metadata": {},
     "output_type": "display_data"
    }
   ],
   "source": [
    "io.imshow(next(data)[0])"
   ]
  },
  {
   "cell_type": "markdown",
   "metadata": {},
   "source": [
    "This will created batches of the given data and also reshape the labels to the correct dimensions."
   ]
  },
  {
   "cell_type": "code",
   "execution_count": 8,
   "metadata": {},
   "outputs": [],
   "source": [
    "def iter_batches(data, batch_size):\n",
    "    while True:\n",
    "        batch = itertools.islice(data, batch_size)\n",
    "        try:\n",
    "            examples, labels = [list(x) for x in zip(*batch)]\n",
    "        except ValueError as e:\n",
    "            #print(\"End of epoch reached:\", e)\n",
    "            break\n",
    "            \n",
    "        yield examples, np.asarray(labels).reshape(-1, 1)"
   ]
  },
  {
   "cell_type": "code",
   "execution_count": 20,
   "metadata": {},
   "outputs": [],
   "source": [
    "def train_network(network, n_epochs=5, learning_rate=0.1, batch_size=32, reshape=True):\n",
    "    if reshape:\n",
    "        x = tf.placeholder(dtype=tf.float32, shape=[None, 3072], name=\"x\")\n",
    "    else:\n",
    "        x = tf.placeholder(dtype=tf.float32, shape=[None, 32, 32, 3], name=\"x\")\n",
    "\n",
    "    y = tf.placeholder(dtype=tf.int32, shape=[None, 1], name=\"y\")\n",
    "    \n",
    "    loss, optimizer, accuracy, y_pred = network(x, y, learning_rate)\n",
    "    \n",
    "    with tf.Session() as sess:\n",
    "        sess.run(tf.global_variables_initializer())\n",
    "        \n",
    "        for epoch in range(n_epochs):\n",
    "            data = generate_cifar_data(get_cifar_filenames(cifar_path, True)[:2], reshape)\n",
    "            loss_value, accuracy_acc, accuracy_cnt = (0,0,0)\n",
    "            for examples, labels in iter_batches(data, batch_size):\n",
    "                _, loss_value, accuracy_value = sess.run([optimizer, loss, accuracy],\n",
    "                                                         feed_dict={x: examples,\n",
    "                                                                    y: labels})\n",
    "                accuracy_cnt += 1\n",
    "                accuracy_acc += accuracy_value\n",
    "\n",
    "            if epoch % 1 == 0:\n",
    "                print(\"Epoch {%d}, Loss: {%f}, Accuracy: {%f}\"%(epoch,loss_value,accuracy_acc / accuracy_cnt))\n",
    "                data = generate_cifar_data(get_cifar_filenames(cifar_path, False), reshape)\n",
    "                examples, labels = next(iter_batches(data, 256))\n",
    "                accuracy_value, y_pred_value = sess.run([accuracy, y_pred], feed_dict={x: examples, y: labels})\n",
    "                print(\"Test accuracy: {%f}\"%(accuracy_value))\n",
    "                #print(f\"y_pred: {y_pred_value[:10]}, y: {labels[:10]}\")\n",
    "            \n",
    "        data = generate_cifar_data(get_cifar_filenames(cifar_path, False), reshape)\n",
    "        examples, labels = next(iter_batches(data, 1024))\n",
    "        return sess.run(accuracy, feed_dict={x: examples, y: labels})"
   ]
  },
  {
   "cell_type": "markdown",
   "metadata": {},
   "source": [
    "# Fully Connected\n",
    "\n",
    "Implement a Neural Network consisting of three fully connected (dense) layers with dimensions:\n",
    "* 512\n",
    "* 256\n",
    "* 10\n",
    "\n",
    "Use sigmoid for the activation function of the first two layers, use no activation function for the last layer. For the loss use cross entrtopy loss.\n",
    "\n",
    "Methods that will be useful:\n",
    "* [tf.layers.dense](https://www.tensorflow.org/api_docs/python/tf/layers/dense)\n",
    "* [tf.nn.sigmoid](https://www.tensorflow.org/api_docs/python/tf/sigmoid)\n",
    "* [tf.nn.relu](https://www.tensorflow.org/api_docs/python/tf/relu)\n",
    "* [tf.train.GradientDescentOptimizer](https://www.tensorflow.org/api_docs/python/tf/train/GradientDescentOptimizer)\n",
    "* [tf.losses.sparse_softmax_cross_entropy](https://www.tensorflow.org/api_docs/python/tf/losses/sparse_softmax_cross_entropy)\n",
    "* [tf.train.GradientDescentOptimizer](https://www.tensorflow.org/api_docs/python/tf/train/GradientDescentOptimizer)\n",
    "\n",
    "Also: Do not expect the accuracy to be good! Train and test below 0.3."
   ]
  },
  {
   "cell_type": "code",
   "execution_count": 21,
   "metadata": {},
   "outputs": [],
   "source": [
    "def fc(x, y, learning_rate):\n",
    "    # Your code goes here\n",
    "    dense1 = tf.layers.dense(x, 512, activation=tf.nn.sigmoid)\n",
    "    dense2 = tf.layers.dense(dense1, 256, activation=tf.nn.sigmoid)\n",
    "    dense3 = tf.layers.dense(dense2, 10)\n",
    "    \n",
    "    loss = tf.losses.sparse_softmax_cross_entropy(labels=y, logits=dense3)\n",
    "    optimizer = tf.train.GradientDescentOptimizer(learning_rate).minimize(loss)\n",
    "    # Note that you do not need to feed in the softmax output into the loss,\n",
    "    # sparse_softmax_cross_entropy will already do that for you.\n",
    "    # It is here only for computing the accuracy.\n",
    "    softmax = tf.nn.softmax(dense3)\n",
    "    y_pred = tf.argmax(softmax, axis=1)\n",
    "    y_pred = tf.reshape(y_pred, (-1, 1))\n",
    "    equality = tf.equal(tf.cast(y_pred, dtype=tf.int32), y)\n",
    "    accuracy = tf.reduce_mean(tf.cast(equality, tf.float32))\n",
    "    \n",
    "    return loss, optimizer, accuracy, y_pred"
   ]
  },
  {
   "cell_type": "code",
   "execution_count": 22,
   "metadata": {},
   "outputs": [
    {
     "name": "stdout",
     "output_type": "stream",
     "text": [
      "Epoch {0}, Loss: {2.302760}, Accuracy: {0.115197}\n",
      "Test accuracy: {0.187500}\n",
      "Epoch {1}, Loss: {2.292102}, Accuracy: {0.167496}\n",
      "Test accuracy: {0.218750}\n",
      "Epoch {2}, Loss: {2.281847}, Accuracy: {0.197651}\n",
      "Test accuracy: {0.265625}\n",
      "Epoch {3}, Loss: {2.271760}, Accuracy: {0.216710}\n",
      "Test accuracy: {0.281250}\n",
      "Epoch {4}, Loss: {2.261656}, Accuracy: {0.231141}\n",
      "Test accuracy: {0.273438}\n",
      "Epoch {5}, Loss: {2.251436}, Accuracy: {0.240396}\n",
      "Test accuracy: {0.285156}\n",
      "Epoch {6}, Loss: {2.241112}, Accuracy: {0.248308}\n",
      "Test accuracy: {0.289062}\n",
      "Epoch {7}, Loss: {2.230812}, Accuracy: {0.254080}\n",
      "Test accuracy: {0.292969}\n",
      "Epoch {8}, Loss: {2.220737}, Accuracy: {0.259902}\n",
      "Test accuracy: {0.296875}\n",
      "Epoch {9}, Loss: {2.211102}, Accuracy: {0.263485}\n",
      "Test accuracy: {0.289062}\n",
      "Epoch {10}, Loss: {2.202074}, Accuracy: {0.268611}\n",
      "Test accuracy: {0.285156}\n",
      "Epoch {11}, Loss: {2.193739}, Accuracy: {0.272094}\n",
      "Test accuracy: {0.289062}\n",
      "Epoch {12}, Loss: {2.186115}, Accuracy: {0.274582}\n",
      "Test accuracy: {0.300781}\n",
      "Epoch {13}, Loss: {2.179177}, Accuracy: {0.280354}\n",
      "Test accuracy: {0.296875}\n",
      "Epoch {14}, Loss: {2.172889}, Accuracy: {0.283887}\n",
      "Test accuracy: {0.304688}\n",
      "CPU times: user 2min 23s, sys: 7.14 s, total: 2min 30s\n",
      "Wall time: 51.7 s\n"
     ]
    },
    {
     "data": {
      "text/plain": [
       "0.30273438"
      ]
     },
     "execution_count": 22,
     "metadata": {},
     "output_type": "execute_result"
    }
   ],
   "source": [
    "%time train_network(fc, learning_rate=0.01, n_epochs=15, batch_size=128, reshape=True)"
   ]
  },
  {
   "cell_type": "markdown",
   "metadata": {},
   "source": [
    "## Full Connected with relu\n",
    "Implement the same network as above, but use relu as activation function.\n",
    "\n",
    "Accuracy should improve quite a bit!"
   ]
  },
  {
   "cell_type": "code",
   "execution_count": 14,
   "metadata": {},
   "outputs": [],
   "source": [
    "def fc2(x, y, learning_rate):\n",
    "    # Your code goes here\n",
    "    dense1 = tf.layers.dense(x, 512, activation=tf.nn.relu)\n",
    "    dense2 = tf.layers.dense(dense1, 256, activation=tf.nn.relu)\n",
    "    dense3 = tf.layers.dense(dense2, 10)\n",
    "    \n",
    "    loss = tf.losses.sparse_softmax_cross_entropy(labels=y, logits=dense3)\n",
    "    optimizer = tf.train.GradientDescentOptimizer(learning_rate).minimize(loss)\n",
    "    \n",
    "    softmax = tf.nn.softmax(dense3)\n",
    "    y_pred = tf.argmax(softmax, axis=1)\n",
    "    y_pred = tf.reshape(y_pred, (-1, 1))\n",
    "    equality = tf.equal(tf.cast(y_pred, dtype=tf.int32), y)\n",
    "    accuracy = tf.reduce_mean(tf.cast(equality, tf.float32))\n",
    "    return loss, optimizer, accuracy, y_pred"
   ]
  },
  {
   "cell_type": "code",
   "execution_count": 15,
   "metadata": {},
   "outputs": [
    {
     "name": "stdout",
     "output_type": "stream",
     "text": [
      "Epoch {epoch}, Loss: {loss_value}, Accuracy: {accuracy_acc / accuracy_cnt}\n",
      "Test accuracy: {accuracy_value}\n",
      "Epoch {epoch}, Loss: {loss_value}, Accuracy: {accuracy_acc / accuracy_cnt}\n",
      "Test accuracy: {accuracy_value}\n",
      "Epoch {epoch}, Loss: {loss_value}, Accuracy: {accuracy_acc / accuracy_cnt}\n",
      "Test accuracy: {accuracy_value}\n",
      "Epoch {epoch}, Loss: {loss_value}, Accuracy: {accuracy_acc / accuracy_cnt}\n",
      "Test accuracy: {accuracy_value}\n",
      "Epoch {epoch}, Loss: {loss_value}, Accuracy: {accuracy_acc / accuracy_cnt}\n",
      "Test accuracy: {accuracy_value}\n",
      "Epoch {epoch}, Loss: {loss_value}, Accuracy: {accuracy_acc / accuracy_cnt}\n",
      "Test accuracy: {accuracy_value}\n",
      "Epoch {epoch}, Loss: {loss_value}, Accuracy: {accuracy_acc / accuracy_cnt}\n",
      "Test accuracy: {accuracy_value}\n",
      "Epoch {epoch}, Loss: {loss_value}, Accuracy: {accuracy_acc / accuracy_cnt}\n",
      "Test accuracy: {accuracy_value}\n",
      "Epoch {epoch}, Loss: {loss_value}, Accuracy: {accuracy_acc / accuracy_cnt}\n",
      "Test accuracy: {accuracy_value}\n",
      "Epoch {epoch}, Loss: {loss_value}, Accuracy: {accuracy_acc / accuracy_cnt}\n",
      "Test accuracy: {accuracy_value}\n",
      "Epoch {epoch}, Loss: {loss_value}, Accuracy: {accuracy_acc / accuracy_cnt}\n",
      "Test accuracy: {accuracy_value}\n",
      "Epoch {epoch}, Loss: {loss_value}, Accuracy: {accuracy_acc / accuracy_cnt}\n",
      "Test accuracy: {accuracy_value}\n",
      "Epoch {epoch}, Loss: {loss_value}, Accuracy: {accuracy_acc / accuracy_cnt}\n",
      "Test accuracy: {accuracy_value}\n",
      "Epoch {epoch}, Loss: {loss_value}, Accuracy: {accuracy_acc / accuracy_cnt}\n",
      "Test accuracy: {accuracy_value}\n",
      "Epoch {epoch}, Loss: {loss_value}, Accuracy: {accuracy_acc / accuracy_cnt}\n",
      "Test accuracy: {accuracy_value}\n",
      "CPU times: user 2min 23s, sys: 9.51 s, total: 2min 32s\n",
      "Wall time: 56.8 s\n"
     ]
    },
    {
     "data": {
      "text/plain": [
       "0.40039062"
      ]
     },
     "execution_count": 15,
     "metadata": {},
     "output_type": "execute_result"
    }
   ],
   "source": [
    "%time train_network(fc2, learning_rate=0.01, n_epochs=15, batch_size=128, reshape=True)"
   ]
  },
  {
   "cell_type": "markdown",
   "metadata": {},
   "source": [
    "# CNN\n",
    "\n",
    "Methods that will be useful:\n",
    "* [tf.layers.max_pooling2d](https://www.tensorflow.org/api_docs/python/tf/layers/max_pooling2d)\n",
    "* [tf.layers.conv2d](https://www.tensorflow.org/api_docs/python/tf/layers/conv2d)\n",
    "* [tf.layers.dense](https://www.tensorflow.org/api_docs/python/tf/layers/dense)\n",
    "* [tf.nn.relu](https://www.tensorflow.org/api_docs/python/tf/relu)\n",
    "* [tf.train.GradientDescentOptimizer](https://www.tensorflow.org/api_docs/python/tf/train/GradientDescentOptimizer)\n",
    "* [tf.train.AdamOptimizer](https://www.tensorflow.org/api_docs/python/tf/train/AdamOptimizer#minimize)\n",
    "\n",
    "Build a network with:\n",
    "* conv, kernel size 3, filter 8, stride 1, padding same, relu\n",
    "* max pooling, pool size 3, stride 2\n",
    "* conv, kernel size 3, filter 16, stride 1, padding same, relu\n",
    "* max pooling, pool size 3, stride 2\n",
    "* flatten\n",
    "* dense, 256 neurons, relu\n",
    "* dense, 512 neurons, relu\n",
    "\n",
    "Results should be similar to fully connected with relu."
   ]
  },
  {
   "cell_type": "code",
   "execution_count": 26,
   "metadata": {},
   "outputs": [],
   "source": [
    "def cnn(x, y, learning_rate):\n",
    "    # Your code goes here\n",
    "    conv1 = tf.layers.conv2d(x, 8, 3,strides=1,padding='same',activation=tf.nn.relu)\n",
    "    mp1 = tf.layers.max_pooling2d(conv1,3,2)\n",
    "    conv2 = tf.layers.conv2d(mp1, 16, 3,strides=1,padding='same',activation=tf.nn.relu)\n",
    "    mp2 = tf.layers.max_pooling2d(conv2,3,2)\n",
    "    flat = tf.contrib.layers.flatten(mp2)\n",
    "    dense1 = tf.layers.dense(flat, 256, activation=tf.nn.relu)\n",
    "    dense2 = tf.layers.dense(dense1, 512, activation=tf.nn.relu)\n",
    "    \n",
    "    loss = tf.losses.sparse_softmax_cross_entropy(labels=y, logits=dense2)\n",
    "    optimizer = tf.train.GradientDescentOptimizer(learning_rate).minimize(loss)\n",
    "    \n",
    "    softmax = tf.nn.softmax(dense2)\n",
    "    y_pred = tf.argmax(softmax, axis=1)\n",
    "    y_pred = tf.reshape(y_pred, (-1, 1))\n",
    "    equality = tf.equal(tf.cast(y_pred, dtype=tf.int32), y)\n",
    "    accuracy = tf.reduce_mean(tf.cast(equality, tf.float32))\n",
    "    return loss, optimizer, accuracy, y_pred"
   ]
  },
  {
   "cell_type": "code",
   "execution_count": 27,
   "metadata": {},
   "outputs": [
    {
     "name": "stdout",
     "output_type": "stream",
     "text": [
      "Epoch {0}, Loss: {5.105136}, Accuracy: {0.112609}\n",
      "Test accuracy: {0.097656}\n",
      "Epoch {1}, Loss: {4.852138}, Accuracy: {0.160828}\n",
      "Test accuracy: {0.117188}\n",
      "Epoch {2}, Loss: {3.748439}, Accuracy: {0.186704}\n",
      "Test accuracy: {0.140625}\n",
      "Epoch {3}, Loss: {3.704221}, Accuracy: {0.210191}\n",
      "Test accuracy: {0.148438}\n",
      "Epoch {4}, Loss: {3.648896}, Accuracy: {0.231837}\n",
      "Test accuracy: {0.175781}\n",
      "Epoch {5}, Loss: {3.591486}, Accuracy: {0.251791}\n",
      "Test accuracy: {0.195312}\n",
      "Epoch {6}, Loss: {3.538408}, Accuracy: {0.268362}\n",
      "Test accuracy: {0.214844}\n",
      "Epoch {7}, Loss: {3.484173}, Accuracy: {0.290307}\n",
      "Test accuracy: {0.222656}\n",
      "Epoch {8}, Loss: {3.440550}, Accuracy: {0.303045}\n",
      "Test accuracy: {0.230469}\n",
      "Epoch {9}, Loss: {3.411798}, Accuracy: {0.317277}\n",
      "Test accuracy: {0.246094}\n",
      "CPU times: user 5min 21s, sys: 31.7 s, total: 5min 53s\n",
      "Wall time: 2min 14s\n"
     ]
    },
    {
     "data": {
      "text/plain": [
       "0.2841797"
      ]
     },
     "execution_count": 27,
     "metadata": {},
     "output_type": "execute_result"
    }
   ],
   "source": [
    "%time train_network(cnn, learning_rate=0.01, n_epochs=10, batch_size=128, reshape=False)"
   ]
  },
  {
   "cell_type": "markdown",
   "metadata": {},
   "source": [
    "## CNN, more complex\n",
    "Build a network with:\n",
    "* conv, kernel size 4, filter 16, stride 1, padding same, relu\n",
    "* max pooling, pool size 3, stride 2\n",
    "* conv, kernel size 4, filter 32, stride 1, padding same, relu\n",
    "* max pooling, pool size 3, stride 2\n",
    "* batchnorm\n",
    "* conv, kernel size 4, filter 64, stride 1, padding same, relu\n",
    "* max pooling, pool size 3, stride 2\n",
    "* batchnorm\n",
    "* flatten\n",
    "* dense, 512 neurons, relu\n",
    "* dense, 256 neurons, relu\n",
    "\n",
    "Also: Use the Adam optimizer. (Notice that it takes a smaller learning rate compared to regular GD.)\n",
    "\n",
    "Accuracy should again improve quite a bit, but it'll also take longer to train."
   ]
  },
  {
   "cell_type": "code",
   "execution_count": 23,
   "metadata": {},
   "outputs": [],
   "source": [
    "def cnn2(x, y, learning_rate):\n",
    "    # Your code goes here\n",
    "    conv1 = tf.layers.conv2d(x, 16, 4,strides=1,padding='same',activation=tf.nn.relu)\n",
    "    mp1 = tf.layers.max_pooling2d(conv1,3,2)\n",
    "    conv2 = tf.layers.conv2d(mp1, 32, 4,strides=1,padding='same',activation=tf.nn.relu)\n",
    "    mp2 = tf.layers.max_pooling2d(conv2,3,2)\n",
    "    bn1 = tf.layers.batch_normalization(mp2)\n",
    "    conv3 = tf.layers.conv2d(bn1, 64, 4,strides=1,padding='same',activation=tf.nn.relu)\n",
    "    mp3 = tf.layers.max_pooling2d(conv2,3,2)\n",
    "    bn2 = tf.layers.batch_normalization(mp3)\n",
    "    flat = tf.contrib.layers.flatten(bn2)\n",
    "    dense1 = tf.layers.dense(flat, 256, activation=tf.nn.relu)\n",
    "    dense2 = tf.layers.dense(dense1, 512, activation=tf.nn.relu)\n",
    "    \n",
    "    loss = tf.losses.sparse_softmax_cross_entropy(labels=y, logits=dense2)\n",
    "    optimizer = tf.train.AdamOptimizer(learning_rate).minimize(loss)\n",
    "    \n",
    "    softmax = tf.nn.softmax(dense2)\n",
    "    y_pred = tf.argmax(softmax, axis=1)\n",
    "    y_pred = tf.reshape(y_pred, (-1, 1))\n",
    "    equality = tf.equal(tf.cast(y_pred, dtype=tf.int32), y)\n",
    "    accuracy = tf.reduce_mean(tf.cast(equality, tf.float32))\n",
    "    return loss, optimizer, accuracy, y_pred"
   ]
  },
  {
   "cell_type": "code",
   "execution_count": 24,
   "metadata": {},
   "outputs": [
    {
     "name": "stdout",
     "output_type": "stream",
     "text": [
      "Epoch {0}, Loss: {1.723091}, Accuracy: {0.286077}\n",
      "Test accuracy: {0.355469}\n",
      "Epoch {1}, Loss: {1.607167}, Accuracy: {0.456758}\n",
      "Test accuracy: {0.464844}\n",
      "Epoch {2}, Loss: {1.427501}, Accuracy: {0.514431}\n",
      "Test accuracy: {0.453125}\n",
      "Epoch {3}, Loss: {1.248525}, Accuracy: {0.551055}\n",
      "Test accuracy: {0.515625}\n",
      "Epoch {4}, Loss: {1.079514}, Accuracy: {0.583648}\n",
      "Test accuracy: {0.519531}\n",
      "Epoch {5}, Loss: {0.916561}, Accuracy: {0.604996}\n",
      "Test accuracy: {0.531250}\n",
      "Epoch {6}, Loss: {0.790035}, Accuracy: {0.623905}\n",
      "Test accuracy: {0.585938}\n",
      "Epoch {7}, Loss: {0.691676}, Accuracy: {0.643561}\n",
      "Test accuracy: {0.613281}\n",
      "Epoch {8}, Loss: {0.616181}, Accuracy: {0.660330}\n",
      "Test accuracy: {0.617188}\n",
      "Epoch {9}, Loss: {0.540436}, Accuracy: {0.674910}\n",
      "Test accuracy: {0.640625}\n",
      "Epoch {10}, Loss: {0.465357}, Accuracy: {0.689490}\n",
      "Test accuracy: {0.640625}\n",
      "Epoch {11}, Loss: {0.415232}, Accuracy: {0.698895}\n",
      "Test accuracy: {0.636719}\n",
      "Epoch {12}, Loss: {0.365216}, Accuracy: {0.710440}\n",
      "Test accuracy: {0.660156}\n",
      "Epoch {13}, Loss: {0.334812}, Accuracy: {0.716262}\n",
      "Test accuracy: {0.648438}\n",
      "Epoch {14}, Loss: {0.303206}, Accuracy: {0.723378}\n",
      "Test accuracy: {0.648438}\n",
      "Epoch {15}, Loss: {0.295393}, Accuracy: {0.733579}\n",
      "Test accuracy: {0.652344}\n",
      "Epoch {16}, Loss: {0.276656}, Accuracy: {0.746965}\n",
      "Test accuracy: {0.644531}\n",
      "Epoch {17}, Loss: {0.257658}, Accuracy: {0.760002}\n",
      "Test accuracy: {0.640625}\n",
      "Epoch {18}, Loss: {0.243233}, Accuracy: {0.771447}\n",
      "Test accuracy: {0.625000}\n",
      "Epoch {19}, Loss: {0.224821}, Accuracy: {0.783987}\n",
      "Test accuracy: {0.609375}\n",
      "Epoch {20}, Loss: {0.206654}, Accuracy: {0.794735}\n",
      "Test accuracy: {0.605469}\n",
      "Epoch {21}, Loss: {0.175626}, Accuracy: {0.805334}\n",
      "Test accuracy: {0.613281}\n",
      "Epoch {22}, Loss: {0.154642}, Accuracy: {0.814291}\n",
      "Test accuracy: {0.597656}\n",
      "Epoch {23}, Loss: {0.140204}, Accuracy: {0.815287}\n",
      "Test accuracy: {0.582031}\n",
      "Epoch {24}, Loss: {0.170999}, Accuracy: {0.821407}\n",
      "Test accuracy: {0.582031}\n",
      "Epoch {25}, Loss: {0.125076}, Accuracy: {0.835141}\n",
      "Test accuracy: {0.597656}\n",
      "Epoch {26}, Loss: {0.075015}, Accuracy: {0.850468}\n",
      "Test accuracy: {0.593750}\n",
      "Epoch {27}, Loss: {0.053795}, Accuracy: {0.864849}\n",
      "Test accuracy: {0.605469}\n",
      "Epoch {28}, Loss: {0.036947}, Accuracy: {0.877986}\n",
      "Test accuracy: {0.617188}\n",
      "Epoch {29}, Loss: {0.070442}, Accuracy: {0.896198}\n",
      "Test accuracy: {0.625000}\n",
      "CPU times: user 32min 35s, sys: 3min 18s, total: 35min 53s\n",
      "Wall time: 2h 11min 38s\n"
     ]
    },
    {
     "data": {
      "text/plain": [
       "0.6425781"
      ]
     },
     "execution_count": 24,
     "metadata": {},
     "output_type": "execute_result"
    }
   ],
   "source": [
    "%time train_network(cnn2, learning_rate=0.001, n_epochs=30, batch_size=128, reshape=False)"
   ]
  },
  {
   "cell_type": "markdown",
   "metadata": {},
   "source": [
    "# Questions / Discussion"
   ]
  },
  {
   "cell_type": "markdown",
   "metadata": {},
   "source": [
    "__Set `n_epochs` to 9 for cnn2 and run it again. Describe what happens with the accuracy. What is that usually called? Is this neural network generalizing well?__"
   ]
  },
  {
   "cell_type": "markdown",
   "metadata": {},
   "source": [
    "If we change `n_epochs` to 9, the accuracy would increase, but after epoch 10, the test accuracy stoped increasing when the accuracy of train keep increasing, the gap between these 2 accuracies become larger, we call this overfitting, which mean the learned weights can fit the train data very good but perform terrible on test data, the weights are not generalized for the all data, so the neural networl is not generalizing well."
   ]
  },
  {
   "cell_type": "markdown",
   "metadata": {},
   "source": []
  },
  {
   "cell_type": "markdown",
   "metadata": {},
   "source": [
    "__Set `n_epochs` to 10 for `fc` and run it again. Describe what happens with the accuracy. What is that usually called?__"
   ]
  },
  {
   "cell_type": "markdown",
   "metadata": {},
   "source": [
    "If n_epochs for fc was set from 5 to 10, both train and test accuracies are increasing. In the case of 5 epochs, it is called underfitting."
   ]
  },
  {
   "cell_type": "markdown",
   "metadata": {},
   "source": []
  }
 ],
 "metadata": {
  "kernelspec": {
   "display_name": "Python 3",
   "language": "python",
   "name": "python3"
  },
  "language_info": {
   "codemirror_mode": {
    "name": "ipython",
    "version": 3
   },
   "file_extension": ".py",
   "mimetype": "text/x-python",
   "name": "python",
   "nbconvert_exporter": "python",
   "pygments_lexer": "ipython3",
   "version": "3.5.5"
  }
 },
 "nbformat": 4,
 "nbformat_minor": 2
}
