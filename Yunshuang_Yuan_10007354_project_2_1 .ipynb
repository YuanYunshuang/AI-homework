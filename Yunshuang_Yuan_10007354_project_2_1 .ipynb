{
 "cells": [
  {
   "cell_type": "markdown",
   "metadata": {},
   "source": [
    "# Artificial Intelligence, Project 2.1\n",
    "\n",
    "The project for the machine learning part will also be split into two sub projects.\n",
    "\n",
    "There are two parts to the first sub project (of project 2):\n",
    "\n",
    "* Implementing a perceptron\n",
    "* Implementing Linear Regression, including backpropagation\n",
    "\n",
    "**Deadline:** 03.07.2018\n",
    "\n",
    "Submit your solution (only the ipynb file) to AI.SS18@l3s.de@l3s.de using the subject:\n",
    "\n",
    "```\n",
    "AI18Project2.1:  [YourNames]\n",
    "```\n",
    "\n",
    "Please be sure to provide your matriculation numbers in the email.\n",
    "\n",
    "File naming convention:\n",
    "\n",
    "**`[FirstName]_[FamilyName]_[MatriculationNumber]_project_2_1.ipynb`**\n",
    "\n",
    "Where `[FirstName]_[FamilyName]_[MatriculationNumber]` is added **per participant** in the group (max 2) and devided by a `_` if there are two group members."
   ]
  },
  {
   "cell_type": "markdown",
   "metadata": {},
   "source": [
    "## Methods you might need\n",
    "\n",
    "* [numpy.sum](https://docs.scipy.org/doc/numpy-1.14.0/reference/generated/numpy.sum.html)\n",
    "* [numpy.random.randn](https://docs.scipy.org/doc/numpy-1.14.0/reference/generated/numpy.random.randn.html)\n",
    "* [numpy.zeros](https://docs.scipy.org/doc/numpy-1.14.0/reference/generated/numpy.zeros.html)"
   ]
  },
  {
   "cell_type": "code",
   "execution_count": 1,
   "metadata": {},
   "outputs": [],
   "source": [
    "import numpy as np\n",
    "from sklearn import datasets\n",
    "from sklearn.model_selection import train_test_split\n",
    "import matplotlib.pyplot as plt\n",
    "from mpl_toolkits.mplot3d import Axes3D\n",
    "%matplotlib inline"
   ]
  },
  {
   "cell_type": "markdown",
   "metadata": {},
   "source": [
    "# Input data"
   ]
  },
  {
   "cell_type": "code",
   "execution_count": 2,
   "metadata": {},
   "outputs": [],
   "source": [
    "n_features = 2\n",
    "X, y = datasets.make_classification(\n",
    "    n_samples=1000,\n",
    "    n_features=n_features,\n",
    "    n_informative=n_features,\n",
    "    n_redundant=0,\n",
    "    n_repeated=0,\n",
    "    n_clusters_per_class=1,\n",
    "    class_sep=100,\n",
    "    random_state=2)\n",
    "y[y == 0] = -1"
   ]
  },
  {
   "cell_type": "code",
   "execution_count": 3,
   "metadata": {},
   "outputs": [],
   "source": [
    "X_train, X_test, y_train, y_test = train_test_split(X, y, test_size=0.2, random_state=1)"
   ]
  },
  {
   "cell_type": "code",
   "execution_count": 4,
   "metadata": {},
   "outputs": [
    {
     "data": {
      "image/png": "[encoded data removed]",
      "text/plain": [
       "<matplotlib.figure.Figure at 0x1a16602da0>"
      ]
     },
     "metadata": {},
     "output_type": "display_data"
    }
   ],
   "source": [
    "plt.scatter(X_train[:, 0], X_train[:, 1], c=y_train)\n",
    "plt.show()"
   ]
  },
  {
   "cell_type": "markdown",
   "metadata": {},
   "source": [
    "Let's check the shapes of the actual data:"
   ]
  },
  {
   "cell_type": "code",
   "execution_count": 5,
   "metadata": {},
   "outputs": [
    {
     "name": "stdout",
     "output_type": "stream",
     "text": [
      "X_train: (800, 2)\n",
      "y_train: (800,)\n"
     ]
    }
   ],
   "source": [
    "print(f\"X_train: {X_train.shape}\")\n",
    "print(f\"y_train: {y_train.shape}\")"
   ]
  },
  {
   "cell_type": "markdown",
   "metadata": {},
   "source": [
    "Let's define a method that calculates the mean squared error:"
   ]
  },
  {
   "cell_type": "code",
   "execution_count": 6,
   "metadata": {},
   "outputs": [],
   "source": [
    "def mse(y, y_pred):\n",
    "    return np.mean((y - y_pred) ** 2)"
   ]
  },
  {
   "cell_type": "code",
   "execution_count": 7,
   "metadata": {},
   "outputs": [],
   "source": [
    "def accuracy(y, y_pred):\n",
    "    return np.mean(y == y_pred) * 100"
   ]
  },
  {
   "cell_type": "markdown",
   "metadata": {},
   "source": [
    "# Perceptron"
   ]
  },
  {
   "cell_type": "markdown",
   "metadata": {},
   "source": [
    "Implement the perceptron algorithm with the update rule shown in the lecture/tutorial. Feel free to ignore the bias in this case. Results should already be very good (MSE below 0.1 for both train and test data)."
   ]
  },
  {
   "cell_type": "code",
   "execution_count": 8,
   "metadata": {},
   "outputs": [],
   "source": [
    "def activation(x):\n",
    "    tmp = np.sign(x)\n",
    "    # change all zeroes to -1\n",
    "    tmp[tmp == 0] = -1\n",
    "    \n",
    "    return tmp"
   ]
  },
  {
   "cell_type": "markdown",
   "metadata": {},
   "source": [
    "Return predictions, given the weights and some examples"
   ]
  },
  {
   "cell_type": "code",
   "execution_count": 9,
   "metadata": {},
   "outputs": [],
   "source": [
    "def predict_perceptron(w, X):\n",
    "    return activation(np.sum(X * w, axis=1))"
   ]
  },
  {
   "cell_type": "code",
   "execution_count": 10,
   "metadata": {},
   "outputs": [],
   "source": [
    "def perceptron(X, y, learning_rate=0.1, max_num_iterations=50):\n",
    "    # 1. Initializing the weights to a random small value\n",
    "    m,n = np.shape(X)\n",
    "    w = np.random.random(n)*0.01\n",
    "    #print(w)\n",
    "    #w= [0.0 for i in range(len(X[0]))]\n",
    "    for epoch in range(max_num_iterations):\n",
    "        loss = 0.0\n",
    "        for x in range(m):\n",
    "            prediction = predict_perceptron(w,X)\n",
    "            error = y[x] - prediction[x]\n",
    "            loss = loss + error**2\n",
    "            #w[0] = w[0] + learning_rate * error\n",
    "            for i in range(n):\n",
    "                w[i] = w[i] + learning_rate * error * X[x,i]\n",
    "        if epoch%10==0:\n",
    "            print('>====epoch=%d, lrate=%.3f, loss=%.3f' % (epoch, learning_rate, loss))\n",
    "    return w"
   ]
  },
  {
   "cell_type": "code",
   "execution_count": 11,
   "metadata": {},
   "outputs": [
    {
     "name": "stdout",
     "output_type": "stream",
     "text": [
      ">====epoch=0, lrate=0.100, loss=64.000\n",
      ">====epoch=10, lrate=0.100, loss=56.000\n",
      ">====epoch=20, lrate=0.100, loss=56.000\n",
      ">====epoch=30, lrate=0.100, loss=56.000\n",
      ">====epoch=40, lrate=0.100, loss=56.000\n",
      "MSE: 0.035\n"
     ]
    }
   ],
   "source": [
    "w = perceptron(X_train, y_train)\n",
    "y_pred = predict_perceptron(w, X_train)\n",
    "print(\"MSE:\", mse(y_train, y_pred))"
   ]
  },
  {
   "cell_type": "code",
   "execution_count": 12,
   "metadata": {},
   "outputs": [
    {
     "name": "stdout",
     "output_type": "stream",
     "text": [
      "Accuracy: 99.125\n"
     ]
    }
   ],
   "source": [
    "print(\"Accuracy:\", accuracy(y_train, y_pred))"
   ]
  },
  {
   "cell_type": "code",
   "execution_count": 13,
   "metadata": {},
   "outputs": [
    {
     "name": "stdout",
     "output_type": "stream",
     "text": [
      "MSE: 0.08\n"
     ]
    }
   ],
   "source": [
    "y_pred = predict_perceptron(w, X_test)\n",
    "print(\"MSE:\", mse(y_test, y_pred))"
   ]
  },
  {
   "cell_type": "code",
   "execution_count": 14,
   "metadata": {},
   "outputs": [
    {
     "name": "stdout",
     "output_type": "stream",
     "text": [
      "Accuracy: 98.0\n"
     ]
    }
   ],
   "source": [
    "print(\"Accuracy:\", accuracy(y_test, y_pred))"
   ]
  },
  {
   "cell_type": "markdown",
   "metadata": {},
   "source": [
    "# Linear Regression"
   ]
  },
  {
   "cell_type": "markdown",
   "metadata": {},
   "source": [
    "Implement Linear Regression, use backpropagation to update the weights. MSE around or below 0.1 for test and train set after 500 iterations."
   ]
  },
  {
   "cell_type": "code",
   "execution_count": 15,
   "metadata": {},
   "outputs": [],
   "source": [
    "# no activation function here\n",
    "def predict_lr(w, X):\n",
    "    return X.dot(w.reshape(w.shape[0], -1)).reshape(X.shape[0],)"
   ]
  },
  {
   "cell_type": "markdown",
   "metadata": {},
   "source": [
    "Feel free to set n_features to 1 and start implementing with that and later set it back to 2."
   ]
  },
  {
   "cell_type": "code",
   "execution_count": 16,
   "metadata": {},
   "outputs": [],
   "source": [
    "n_features=1\n",
    "X, y = datasets.make_regression(\n",
    "    n_samples=1000,\n",
    "    n_features=n_features,\n",
    "    n_informative=n_features,\n",
    "    noise=0.01,\n",
    "    random_state=1)"
   ]
  },
  {
   "cell_type": "code",
   "execution_count": 17,
   "metadata": {},
   "outputs": [],
   "source": [
    "X_train, X_test, y_train, y_test = train_test_split(X, y, test_size=0.2, random_state=1)"
   ]
  },
  {
   "cell_type": "code",
   "execution_count": 18,
   "metadata": {},
   "outputs": [
    {
     "data": {
      "image/png": "[encoded data removed]",
      "text/plain": [
       "<matplotlib.figure.Figure at 0x1a1f5790b8>"
      ]
     },
     "metadata": {},
     "output_type": "display_data"
    }
   ],
   "source": [
    "if n_features == 1:\n",
    "    plt.scatter(X_train[:, 0], y_train)\n",
    "    plt.show()\n",
    "if n_features == 2:\n",
    "    fig = plt.figure(figsize=(14,10))\n",
    "    ax = fig.add_subplot(111, projection='3d')\n",
    "    ax.scatter(xs=X_train[:, 0], ys=X_train[:, 1], zs=y_train, c=y_train, s=70)"
   ]
  },
  {
   "cell_type": "markdown",
   "metadata": {},
   "source": [
    "The following will add an extra column filled with 1 for all rows for the bias."
   ]
  },
  {
   "cell_type": "code",
   "execution_count": 19,
   "metadata": {},
   "outputs": [],
   "source": [
    "X_train = np.hstack((np.ones(800).reshape(800, 1), X_train))\n",
    "X_test = np.hstack((np.ones(200).reshape(200, 1), X_test))"
   ]
  },
  {
   "cell_type": "code",
   "execution_count": 20,
   "metadata": {},
   "outputs": [],
   "source": [
    "def linear_regression(X, y, learning_rate=0.01, max_num_iterations=1000, opt=True):\n",
    "    # 1. Initializing the weights to a random small value\n",
    "    m,n = np.shape(X)\n",
    "    w = np.random.rand(n)*0.01\n",
    "    #w= [0.0 for i in range(len(X[0])+1)]\n",
    "    for epoch in range(max_num_iterations):\n",
    "        prediction = predict_lr(w,X)\n",
    "        delta_w = np.zeros(n)\n",
    "        for x in range(m):           \n",
    "            error = y[x] - prediction[x]\n",
    "            for i in range(n):\n",
    "                delta_w[i] += error * X[x,i]\n",
    "        w = w + learning_rate*delta_w/m\n",
    "        if epoch%100==0:\n",
    "            print('>====epoch=%d, lrate=%.3f, loss=%.3f' % (epoch, learning_rate, np.sum( (y - prediction) ** 2)))\n",
    "    return w"
   ]
  },
  {
   "cell_type": "markdown",
   "metadata": {},
   "source": [
    "You can use the following to plot the line created by linear regression."
   ]
  },
  {
   "cell_type": "code",
   "execution_count": 21,
   "metadata": {},
   "outputs": [
    {
     "name": "stdout",
     "output_type": "stream",
     "text": [
      ">====epoch=0, lrate=0.010, loss=1152392.198\n",
      ">====epoch=100, lrate=0.010, loss=166589.184\n",
      ">====epoch=200, lrate=0.010, loss=24139.578\n",
      ">====epoch=300, lrate=0.010, loss=3505.701\n",
      ">====epoch=400, lrate=0.010, loss=510.207\n",
      ">====epoch=500, lrate=0.010, loss=74.449\n",
      ">====epoch=600, lrate=0.010, loss=10.940\n",
      ">====epoch=700, lrate=0.010, loss=1.668\n",
      ">====epoch=800, lrate=0.010, loss=0.312\n",
      ">====epoch=900, lrate=0.010, loss=0.114\n",
      "Final MSE: 0.08441746693733523\n"
     ]
    },
    {
     "data": {
      "image/png": "[encoded data removed]",
      "text/plain": [
       "<matplotlib.figure.Figure at 0x1a1f65beb8>"
      ]
     },
     "metadata": {},
     "output_type": "display_data"
    }
   ],
   "source": [
    "w = linear_regression(X_train, y_train)\n",
    "y_pred = predict_lr(w, X_train)\n",
    "print(\"Final MSE:\",np.sum( (y_train - y_pred) ** 2))\n",
    "\n",
    "if n_features == 1:\n",
    "    tt = np.linspace(np.min(X_train[:, 1]), np.max(X_train[:, 1]), 10)\n",
    "    bf_line = w[0]+w[1]*tt\n",
    "    plt.plot(X_train[:, 1], y_train, 'kx', tt, bf_line, 'r-')\n",
    "    plt.show()\n",
    "\n",
    "if n_features == 2:\n",
    "    fig = plt.figure(figsize=(14,10))\n",
    "    ax = fig.add_subplot(211, projection='3d')\n",
    "    ax.scatter(xs=X_train[:, 1], ys=X_train[:, 2], zs=y_train, c=y_train, s=50)\n",
    "    ay = fig.add_subplot(212, projection='3d')\n",
    "    ay.scatter(xs=X_train[:, 1], ys=X_train[:, 2], zs=y_pred, c=y_train, s=50)"
   ]
  },
  {
   "cell_type": "code",
   "execution_count": 22,
   "metadata": {},
   "outputs": [
    {
     "name": "stdout",
     "output_type": "stream",
     "text": [
      "Final MSE: 0.022330498362749814\n"
     ]
    },
    {
     "data": {
      "image/png": "[encoded data removed]",
      "text/plain": [
       "<matplotlib.figure.Figure at 0x1a1f662ef0>"
      ]
     },
     "metadata": {},
     "output_type": "display_data"
    }
   ],
   "source": [
    "y_pred = predict_lr(w, X_test)\n",
    "print(\"Final MSE:\", np.sum( (y_test - y_pred) ** 2))\n",
    "\n",
    "if n_features == 1:\n",
    "    tt = np.linspace(np.min(X_test[:, 1]), np.max(X_test[:, 1]), 10)\n",
    "    bf_line = w[0]+w[1]*tt\n",
    "    plt.plot(X_test[:, 1], y_test, 'kx', tt, bf_line, 'r-')\n",
    "    plt.show()\n",
    "\n",
    "if n_features == 2:\n",
    "    fig = plt.figure(figsize=(14,10))\n",
    "    ax = fig.add_subplot(211, projection='3d')\n",
    "    ax.scatter(xs=X_test[:, 1], ys=X_test[:, 2], zs=y_test, c=y_test, s=50)\n",
    "    ay = fig.add_subplot(212, projection='3d')\n",
    "    ay.scatter(xs=X_test[:, 1], ys=X_test[:, 2], zs=y_pred, c=y_test, s=50)"
   ]
  }
 ],
 "metadata": {
  "kernelspec": {
   "display_name": "Python 3",
   "language": "python",
   "name": "python3"
  },
  "language_info": {
   "codemirror_mode": {
    "name": "ipython",
    "version": 3
   },
   "file_extension": ".py",
   "mimetype": "text/x-python",
   "name": "python",
   "nbconvert_exporter": "python",
   "pygments_lexer": "ipython3",
   "version": "3.6.4"
  }
 },
 "nbformat": 4,
 "nbformat_minor": 2
}
